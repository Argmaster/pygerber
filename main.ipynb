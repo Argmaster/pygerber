{
 "cells": [
  {
   "cell_type": "code",
   "execution_count": 28,
   "metadata": {},
   "outputs": [
    {
     "data": {
      "image/jpeg": "[encoded data removed]",
      "image/png": "[encoded data removed]",
      "text/plain": [
       "<PIL.Image.Image image mode=RGB size=200x200>"
      ]
     },
     "execution_count": 28,
     "metadata": {},
     "output_type": "execute_result"
    }
   ],
   "source": [
    "from __future__ import annotations\n",
    "import os\n",
    "from typing import Tuple\n",
    "from PIL import Image, ImageDraw\n",
    "\n",
    "# Create a sample grayscale image (200x200 pixels)\n",
    "img = Image.new(\"L\", (200, 200))\n",
    "draw = ImageDraw.Draw(img)\n",
    "\n",
    "# Draw a gradient from black to white\n",
    "for i in range(200):\n",
    "    draw.line([(i, 0), (i, 200)], fill=i)\n",
    "\n",
    "\n",
    "def replace_color(\n",
    "    input_image: Image.Image,\n",
    "    original: Tuple[int, ...] | int,\n",
    "    replacement: Tuple[int, ...] | int,\n",
    "):\n",
    "    output_image = input_image.convert(\"RGBA\")\n",
    "\n",
    "    for x in range(input_image.width):\n",
    "        for y in range(input_image.height):\n",
    "            if input_image.getpixel((x, y)) == original:\n",
    "                output_image.putpixel((x, y), replacement)\n",
    "\n",
    "    return output_image\n",
    "\n",
    "\n",
    "out = Image.new(\"RGB\", img.size)\n",
    "replace_color(img, 10, (255, 255, 255, 255)).convert(\"RGB\")"
   ]
  }
 ],
 "metadata": {
  "kernelspec": {
   "display_name": "pygerber-l6uSTi8U-py3.8",
   "language": "python",
   "name": "python3"
  },
  "language_info": {
   "codemirror_mode": {
    "name": "ipython",
    "version": 3
   },
   "file_extension": ".py",
   "mimetype": "text/x-python",
   "name": "python",
   "nbconvert_exporter": "python",
   "pygments_lexer": "ipython3",
   "version": "3.8.17"
  },
  "orig_nbformat": 4
 },
 "nbformat": 4,
 "nbformat_minor": 2
}
